{
 "cells": [
  {
   "cell_type": "markdown",
   "id": "9eef80ac",
   "metadata": {},
   "source": [
    "---\n",
    "title: \"Example Workflow\"\n",
    "output: rmarkdown::html_vignette\n",
    "vignette: >\n",
    "  %\\VignetteIndexEntry{Sample_Workflow}\n",
    "  %\\VignetteEngine{knitr::rmarkdown}\n",
    "  %\\VignetteEncoding{UTF-8}\n",
    "---"
   ]
  },
  {
   "cell_type": "markdown",
   "id": "b2670959",
   "metadata": {},
   "source": [
    "### Introduction\n",
    "This vignette describes an example workflow using the `epictope` package to identify the optimal tagging location for a protein of interest. The optimal location is identified by considering four features; sequence conservation, secondary structure, solvent accessible surface area, and disordered binding regions. These four features are factored into a scoring function that calculates a cumulative score for each position in the protein. The weight of each feature and how they contribute to the final score can be defined by the user. Below, we work through a simple example of this workflow for a protein of interest.\n",
    "\n",
    "### Installation\n",
    "\n",
    "The `epictope` package can be installed from github. First, you will need to download the `devtools` package. The devtools package provide a function to directly download a package from a github repository."
   ]
  },
  {
   "cell_type": "code",
   "execution_count": null,
   "id": "74c390bf",
   "metadata": {
    "attributes": {
     "": "",
     "classes": [],
     "id": ""
    }
   },
   "outputs": [],
   "source": [
    "install.packages(\"devtools\")\n",
    "devtools::install_github(\"henrichung/epitope_tag\")"
   ]
  },
  {
   "cell_type": "markdown",
   "id": "cbe74a3e",
   "metadata": {},
   "source": [
    "#### Dependencies\n",
    "To calculate the multiple sequence alignment and secondary characteristics, `epictope` relies on local installs of BLAST, muscle, and dssp. Fortunately, these packages can be installed using conda, an open-source package management system and environment management system that runs on Windows, macOS, and Linux. Conda installers can be found at the Anaconda[website](https://www.anaconda.com/). Once installed, you may run the follow commands to install the requisite packages. These commands will create a conda environment named \"epictope\", and install the requisite packages into that environment."
   ]
  },
  {
   "cell_type": "code",
   "execution_count": null,
   "id": "c531ebd4",
   "metadata": {
    "attributes": {
     "": "",
     "classes": [],
     "id": ""
    }
   },
   "outputs": [],
   "source": [
    "conda create -n epictope\n",
    "conda activate epictope\n",
    "conda install -c bioconda blast\n",
    "conda install -c bioconda muscle\n",
    "conda install -c salilab dssp\n",
    "conda install -c conda-forge r-base\n",
    "conda install -c r r-stringi\n",
    "conda install -c r r-openssl"
   ]
  },
  {
   "cell_type": "markdown",
   "id": "c911b886",
   "metadata": {},
   "source": [
    "#### Verify installation\n",
    "Once you have installed `epictope` through R and installed the requisite dependencies through conda, it is good practice to verify installation and recognition of these programs before proceeding. First, verify that `epictope` itself is loadable. Then, use the provided \" The output of each '.FindExecutable' command show display the path of the program on your system."
   ]
  },
  {
   "cell_type": "code",
   "execution_count": null,
   "id": "cf0bbe48",
   "metadata": {
    "attributes": {
     "": "",
     "classes": [],
     "id": ""
    }
   },
   "outputs": [],
   "source": [
    "#library(epictope) # check if epictope is installed and loadable\n",
    "epictope::.FindExecutable(\"muscle\") # looks for muscle executable\n",
    "epictope::.FindExecutable(\"blastp\") # looks for blast executable\n",
    "epictope::.FindExecutable(\"mkdssp\") # looks for dssp executable"
   ]
  },
  {
   "cell_type": "markdown",
   "id": "2bcf9470",
   "metadata": {},
   "source": [
    "#### Config \n",
    "\n",
    "A config file is used to determine the protein of interest, how its features will be calculated and scored. The user can set and specify a config file themselves with the `check_config()` function. Otherwise, the function will load default configurations. The `check_config()` function must be used to initalize the configuration settings each run."
   ]
  },
  {
   "cell_type": "code",
   "execution_count": null,
   "id": "277fb363",
   "metadata": {
    "attributes": {
     "": "",
     "classes": [],
     "id": ""
    }
   },
   "outputs": [],
   "source": [
    "# using a predefined config file\n",
    "check_config(\"code/config.txt\")\n",
    "# Using default settings\n",
    "check_config()"
   ]
  },
  {
   "cell_type": "markdown",
   "id": "3111fed8",
   "metadata": {},
   "source": [
    "The default configuration loaded is shown below. These settings can be changed by simply copy-pasting the following lines into a text file, adjusting the numbers, and then calling that text file with `check_config()`."
   ]
  },
  {
   "cell_type": "code",
   "execution_count": null,
   "id": "0c60eeb2",
   "metadata": {
    "attributes": {
     "": "",
     "classes": [],
     "id": ""
    }
   },
   "outputs": [],
   "source": [
    "# define species to run MSA against\n",
    "species <- c(\"bos_taurus\", \"canis_lupus_familiaris\", \"gallus_gallus\", \"homo_sapiens\", \"mus_musculus\", \"takifugu_rubripes\", \"xenopus_tropicalis\")\n",
    "\n",
    "# weights for tagging features\n",
    "h_weight = 1.5 # shannon entropy\n",
    "rsa_weight = 1 # solvent accessable surface area\n",
    "ss_weight = 1 # secondary structure\n",
    "br_weight = 1 # disordered binding region\n",
    "\n",
    "# value for secondary structures, must be 0-1.\n",
    "# each letter refers to a type of secondary structure\n",
    "# the number indicates the value or \"suitability\" for tagging.\n",
    "# values should be from 0-1, with higher values indicating greater\n",
    "# suitability for tagging.\n",
    "ss_key <- list(\n",
    "    \"G\" = 0, \n",
    "    \"H\" = 0, \n",
    "    \"I\" = 0,\n",
    "    \"E\" = 0, \n",
    "    \"C\" = 1,\n",
    "    \"T\" = 0.5, \n",
    "    \"B\" = 0.5, \n",
    "    \"S\" = 0.5)\n",
    "\n",
    "# reference values for maximum solvent accesibility of amino acids.\n",
    "# default values estimate from the following study;\n",
    "# https://doi.org/10.1371/journal.pone.0080635\n",
    "aa <- c(\"A\", \"R\", \"N\", \"D\", \"C\", \"E\", \"Q\", \"G\", \"H\", \"I\", \"L\", \"K\", \"M\", \"F\", \"P\", \"S\", \"T\", \"W\", \"Y\", \"V\")\n",
    "empirical <- c(121, 265, 187, 187, 148, 214, 214, 97, 216, 195, 191, 230, 203, 228, 154, 143, 163, 264, 255, 165)\n",
    "max_sasa <- setNames(empirical, aa)\n"
   ]
  },
  {
   "cell_type": "markdown",
   "id": "7ff9f5da",
   "metadata": {},
   "source": [
    "#### Folder structure\n",
    "\n",
    "The epitope software uses a specified file structure to store the required sequence and temporary data while performing its scoring function. This folder structure is outlined as follows;"
   ]
  },
  {
   "cell_type": "code",
   "execution_count": null,
   "id": "2d5a8647",
   "metadata": {
    "attributes": {
     "": "",
     "classes": [],
     "id": ""
    }
   },
   "outputs": [],
   "source": [
    "project_folder\n",
    "├── code\n",
    "│   ├── config # configuration file for scoring \n",
    "│   ├── install.R # helper script\n",
    "│   └── single_score.R\n",
    "├── data\n",
    "│   ├── CDS # for protein sequences in coding regions for each organism in the MSA\n",
    "│   └── models # for the predicted alphafold2 structure for a protein of interest\n",
    "├── outputs # for the output scores\n",
    "└── README.md"
   ]
  },
  {
   "cell_type": "markdown",
   "id": "27020df4",
   "metadata": {},
   "source": [
    "To set up this structure, we include a simple function `setup_files` to create this structure for you."
   ]
  },
  {
   "cell_type": "code",
   "execution_count": null,
   "id": "ff2405a6",
   "metadata": {
    "attributes": {
     "": "",
     "classes": [],
     "id": ""
    }
   },
   "outputs": [],
   "source": [
    "setup_files()"
   ]
  },
  {
   "cell_type": "markdown",
   "id": "68d64a14",
   "metadata": {},
   "source": [
    "### Workflow\n",
    "\n",
    "Once everything has been set up, you can use the package functions to identify optimal tagging locations as follows. To start, you will need to download the protein sequences of the organisms you want to compare against for a multiple sequence alignment. After this is run, your `data/CDS` folder should be populated with \"gz\" files of the MSA organism's protein sequences."
   ]
  },
  {
   "cell_type": "code",
   "execution_count": null,
   "id": "8675ca24",
   "metadata": {
    "attributes": {
     "": "",
     "classes": [],
     "id": ""
    }
   },
   "outputs": [],
   "source": [
    "# search for the default species specified with the config file \n",
    "protein_links <- ftp_search(species = species)\n",
    "# download the sequences\n",
    "lapply(protein_links, ftp_download)\n",
    "\n",
    "# you can also specify the sequences at the time of search \n",
    "protein_links <- ftp_search(species = c(\"Mus_musculus\", \"Bos_taurus\"))\n",
    "lapply(protein_links, ftp_download)"
   ]
  },
  {
   "cell_type": "markdown",
   "id": "c3f4ddcd",
   "metadata": {},
   "source": [
    "Next, you will need to specify the *UniprotID* of the protein you are interested in. UniProt is a freely accessible database of protein sequence and functional information. A single gene can encode multiple protein isoforms through different processes called alternative splicing. Starting with the UniprotID allows to know what specific protein we are working with."
   ]
  },
  {
   "cell_type": "code",
   "execution_count": null,
   "id": "bba40a98",
   "metadata": {
    "attributes": {
     "": "",
     "classes": [],
     "id": ""
    }
   },
   "outputs": [],
   "source": [
    "query <- \"P57102\" # The UniprotID of the protein we are looking for.\n",
    "uniprot_fields <- c(\"accession\", \"id\", \"gene_names\", \"xref_alphafolddb\", \"sequence\", \"organism_name\", \"organism_id\")\n",
    "# The features for the uniprot id we are interested in retieving. The most important category xref_alphafolddb.\n",
    "# We include the other labels to double check we have fetched the correct protein.\n",
    "uniprot_data <- query_uniProt(query = query, fields = uniprot_fields)"
   ]
  },
  {
   "cell_type": "markdown",
   "id": "da5a356e",
   "metadata": {},
   "source": [
    "Using the AlphafoldID, we can retrieve the predicted structure for the protein of interest. We then run DSSP to predict the secondary structures from the Alphafold2 PDB file and parse out the results to a dataframe."
   ]
  },
  {
   "cell_type": "code",
   "execution_count": null,
   "id": "78c589f4",
   "metadata": {
    "attributes": {
     "": "",
     "classes": [],
     "id": ""
    }
   },
   "outputs": [],
   "source": [
    "# download associated alphafold2 pdb\n",
    "alphafold_file <- fetch_alphafold(gsub(\";\", \"\", uniprot_data$AlphaFoldDB))\n",
    "# calculate dssp on alphafold2 pdb file\n",
    "dssp_res <- dssp_command(alphafold_file)\n",
    "# parse and read in dssp\n",
    "dssp_df <- parse_dssp(dssp_res)"
   ]
  },
  {
   "cell_type": "markdown",
   "id": "39b8e64c",
   "metadata": {},
   "source": [
    "The UniprotID is also the acceptable query for IUPRED2A. IUPred2A is a combined web interface that allows to identify disordered protein regions using IUPred2 and disordered binding regions using ANCHOR2."
   ]
  },
  {
   "cell_type": "code",
   "execution_count": null,
   "id": "ecc4f1ef",
   "metadata": {
    "attributes": {
     "": "",
     "classes": [],
     "id": ""
    }
   },
   "outputs": [],
   "source": [
    "iupred_df <- iupredAnchor(query) # dataframe for iupred results"
   ]
  },
  {
   "cell_type": "markdown",
   "id": "d6f668a2",
   "metadata": {},
   "source": [
    "To perform the multiple sequence alignment (MSA). We must identify homologous proteins in our selected species. To do this, we will BLAST our query protein against the proteome of the selected species. We will sort the BLAST results by their E value, and select highest match by the lowest E value. We will then run muscle to perform the MSA. Using the MSA result, we can calculate the shannnon entropy for each position."
   ]
  },
  {
   "cell_type": "code",
   "execution_count": null,
   "id": "f81275f8",
   "metadata": {
    "attributes": {
     "": "",
     "classes": [],
     "id": ""
    }
   },
   "outputs": [],
   "source": [
    "# blast query aa sequence\n",
    "seq <- Biostrings::AAStringSet(uniprot_data$Sequence, start=NA, end=NA, width=NA, use.names=TRUE) # Use the sequence identified by the UniprotID\n",
    "\n",
    "# list of proteome files to blast against\n",
    "aa_files <-  list.files(cds_folder, pattern = \"\\\\.all.fa$\", full.names = TRUE, recursive = TRUE) # list the protein files in the CDS folder\n",
    "names(aa_files) <- aa_files # name them to keep track of which animal each result came from\n",
    "\n",
    "# blast\n",
    "blast_results <- lapply(aa_files, function(.x){protein_blast(seq, .x)})\n",
    "\n",
    "# take the highest blast match according to E score \n",
    "find_best_match <- function(.x){head(.x[base::order(.x$E),], 1)} # sort by E value and take best match\n",
    "blast_best_match <- lapply(blast_results, find_best_match) # find best match\n",
    "blast_seqs <- lapply(blast_best_match, fetch_sequences) # retrieve the sequence for the best match\n",
    "\n",
    "# Assign the sequence of our query protein to the MSA\n",
    "blast_seqs[[query]] <- seq\n",
    "blast_stringset  <- Biostrings::AAStringSet(unlist(lapply(blast_seqs, function(.x){.x[[1]]})))\n",
    "\n",
    "# multiple sequence alignment\n",
    "msa_res <-  muscle(blast_stringset)\n",
    "# shannon entropy calculation\n",
    "shannon_df <- shannon_reshape(msa_res, query)\n"
   ]
  },
  {
   "cell_type": "markdown",
   "id": "363681be",
   "metadata": {},
   "source": [
    "The final step is to combine the shannon entropy, secondary structure, and disordered binding region into a single dataframe. From there, we can calculate the solvent accessibility and tagging score for each position. The final output will be written to a file in the outputs folder."
   ]
  },
  {
   "cell_type": "code",
   "execution_count": null,
   "id": "f019424b",
   "metadata": {
    "attributes": {
     "": "",
     "classes": [],
     "id": ""
    }
   },
   "outputs": [],
   "source": [
    "# join tagging features in dataframe\n",
    "features_df <- Reduce(function(x, y) merge(x, y, all=TRUE), list(shannon_df, dssp_df, iupred_df), accumulate=FALSE)\n",
    "colnames(features_df)\n",
    "# normalize features and calculate tagging score\n",
    "norm_feats_df <- calculate_scores(features_df)\n",
    "# write to file.\n",
    "res_df <- merge(norm_feats_df, features_df)\n",
    "write.csv(apply(res_df,2,as.character), file = paste0(outputFolder, \"/\", query, \"_score.csv\"))"
   ]
  }
 ],
 "metadata": {
  "language_info": {
   "name": "python"
  }
 },
 "nbformat": 4,
 "nbformat_minor": 5
}
