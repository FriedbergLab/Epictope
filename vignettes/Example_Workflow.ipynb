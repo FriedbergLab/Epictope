{
 "cells": [
  {
   "cell_type": "markdown",
   "id": "fc4d27ed",
   "metadata": {},
   "source": [
    "### Introduction\n",
    "This vignette goes through an example workflow using the `epictope` package. `epictope` facilitates the identification of optimal tagging locations for proteins of interest. Optimal locations are identified by considering four features; sequence conservation, secondary structure, solvent accessibility, and disordered binding regions. These four features are factored into a scoring function that calculates a cumulative score for each position in the protein. The weight of each feature and how they contribute to the final score can be defined by the user. Below, we work through a simple example of this workflow for a protein of interest.\n",
    "\n",
    "To calculate the multiple sequence alignment and secondary characteristics, `epictope` relies on local installs of BLAST, MUSCLE, and DSSP. The recommended way to run Epictope is through R or RStudio inside a conda environment. \n",
    "\n",
    "\n",
    "#### Verify installation\n",
    "To check if `epictope` has been installed correctly, we can attempt the load the package using \"library()\". If successful, the command should run without any further messages to the console. Once `epictope` has been loaded, we can use the provided \".FindExecutable()\" function to determine if the dependencies have been successfully installed and are identifiable by R. If successful, the output of each .FindExecutable command should list the file location of the program."
   ]
  },
  {
   "cell_type": "code",
   "execution_count": null,
   "id": "01f4530c",
   "metadata": {
    "attributes": {
     "": "",
     "classes": [],
     "id": ""
    }
   },
   "outputs": [],
   "source": [
    "library(epictope) # check if epictope is installed and loadable\n",
    "epictope::.findExecutable(\"muscle\") # looks for muscle executable\n",
    "# ~/hchung/epictope/bin/muscle\" \n",
    "epictope::.findExecutable(\"blastp\") # looks for blast executable\n",
    "# ~/hchung/epictope/bin/blastp\" \n",
    "epictope::.findExecutable(\"mkdssp\") # looks for dssp executable\n",
    "# ~/hchung/epictope/bin/mkdssp\" "
   ]
  },
  {
   "cell_type": "markdown",
   "id": "05c727b2",
   "metadata": {},
   "source": [
    "### Workflow\n",
    "\n",
    "Once we have verified Epictope and its dependencies are installed, we can use the package functions to identify optimal tagging locations as follows. To start, we will need to download the protein sequences of the organisms we want to compare against for a multiple sequence alignment. Afterwards, the `data/CDS` folder should be populated with \".gz\" files for each of the organisms used in the multiple sequence alignment."
   ]
  },
  {
   "cell_type": "code",
   "execution_count": null,
   "id": "ac12fee6",
   "metadata": {
    "attributes": {
     "": "",
     "classes": [],
     "id": ""
    }
   },
   "outputs": [],
   "source": [
    "setup_files()\n",
    "check_config()\n",
    "# search for the default species specified with the config file \n",
    "protein_links <- ftp_search(species)\n",
    "# download the sequences\n",
    "lapply(protein_links, ftp_download)\n",
    "\n",
    "# we can also specify the animals we want to use at the time of search \n",
    "#species <- c(\"Mus_musculus\", \"Bos_taurus\")\n",
    "#protein_links <- ftp_search(species)\n",
    "#lapply(protein_links, ftp_download)"
   ]
  },
  {
   "cell_type": "markdown",
   "id": "960725b9",
   "metadata": {},
   "source": [
    "Next, we will need to specify the *UniprotID* of the protein you are interested in. [UniProt](https://www.uniprot.org/) is a freely accessible database of protein sequence and functional information. A single gene can encode multiple protein isoforms through  alternative splicing. Starting with the UniprotID allows to know which specific protein isoform we are interested in and working with."
   ]
  },
  {
   "cell_type": "code",
   "execution_count": null,
   "id": "fe035869",
   "metadata": {
    "attributes": {
     "": "",
     "classes": [],
     "id": ""
    }
   },
   "outputs": [],
   "source": [
    "query <- \"Q9W7E7\" # The UniprotID of the protein we are looking for. In this example, we use the Smad5 gene for zebrafish.\n",
    "uniprot_fields <- c(\"accession\", \"id\", \"gene_names\", \"xref_alphafolddb\", \"sequence\", \"organism_name\", \"organism_id\")\n",
    "uniprot_data <- query_uniProt(query = query, fields = uniprot_fields)"
   ]
  },
  {
   "cell_type": "markdown",
   "id": "09c2cbad",
   "metadata": {},
   "source": [
    "Using the Alphafold2ID provided by Uniprot, we can download the Protein Data Bank file or the AlphaFold2 predicted structure for the protein of interest. We then run DSSP to define the secondary structures from the Alphafold2 PDB file and parse out the results to a dataframe."
   ]
  },
  {
   "cell_type": "code",
   "execution_count": null,
   "id": "d96c15a7",
   "metadata": {
    "attributes": {
     "": "",
     "classes": [],
     "id": ""
    }
   },
   "outputs": [],
   "source": [
    "# download associated alphafold2 pdb\n",
    "alphafold_file <- fetch_alphafold(gsub(\";\", \"\", uniprot_data$AlphaFoldDB))\n",
    "# calculate dssp on alphafold2 pdb file\n",
    "dssp_res <- dssp_command(alphafold_file)\n",
    "# parse dssp and convert to dataframe\n",
    "dssp_df <- parse_dssp(dssp_res)"
   ]
  },
  {
   "cell_type": "markdown",
   "id": "3a12bac2",
   "metadata": {},
   "source": [
    "The UniprotID is also used for IUPRED2A. IUPred2A is a web interface that allows to identify disordered protein regions using IUPred2 and disordered binding regions using ANCHOR2. From the IUPRED2A output, we take the ANCHOR2 score."
   ]
  },
  {
   "cell_type": "code",
   "execution_count": null,
   "id": "393193d8",
   "metadata": {
    "attributes": {
     "": "",
     "classes": [],
     "id": ""
    }
   },
   "outputs": [],
   "source": [
    "iupred_df <- iupredAnchor(query) # dataframe for iupred results"
   ]
  },
  {
   "cell_type": "markdown",
   "id": "5e43afc5",
   "metadata": {},
   "source": [
    "To perform the multiple sequence alignment (MSA). We must identify homologous proteins in our selected species. To do this, we will BLAST our query protein against the proteome of the selected species. These species can be defined by the user with the \"config.R\" configuration file, or using the default set of animals. We will sort the BLAST results by their E value, and select highest match by the lowest E value. We will then run muscle to perform the MSA. Using the MSA result, we can calculate the shannnon entropy for each position."
   ]
  },
  {
   "cell_type": "code",
   "execution_count": null,
   "id": "62afdaf7",
   "metadata": {
    "attributes": {
     "": "",
     "classes": [],
     "id": ""
    }
   },
   "outputs": [],
   "source": [
    "# blast query aa sequence\n",
    "seq <- Biostrings::AAStringSet(uniprot_data$Sequence, start=NA, end=NA, width=NA, use.names=TRUE) # Use the sequence identified by the UniprotID\n",
    "\n",
    "# list of proteome files to blast against\n",
    "aa_files <-  list.files(cds_folder, pattern = paste0(species, \".*\\\\.all.fa$\", collapse = \"|\"), ignore.case = TRUE, full.names = TRUE, recursive = TRUE)\n",
    "names(aa_files) <- aa_files\n",
    "\n",
    "# blast\n",
    "blast_results <- lapply(aa_files, function(.x){protein_blast(seq, .x)})\n",
    "\n",
    "# take the highest blast match according to E score \n",
    "find_best_match <- function(.x){head(.x[base::order(.x$E),], 1)} # sort by E value and take best match\n",
    "blast_best_match <- lapply(blast_results, find_best_match) # find best match\n",
    "blast_seqs <- lapply(blast_best_match, fetch_sequences) # retrieve the sequence for the best match\n",
    "\n",
    "# Assign the sequence of our query protein to the MSA\n",
    "blast_seqs[[query]] <- seq\n",
    "blast_stringset  <- Biostrings::AAStringSet(unlist(lapply(blast_seqs, function(.x){.x[[1]]})))\n",
    "\n",
    "# multiple sequence alignment\n",
    "msa_res <-  muscle(blast_stringset)\n",
    "# shannon entropy calculation\n",
    "shannon_df <- shannon_reshape(msa_res, query)\n"
   ]
  },
  {
   "cell_type": "markdown",
   "id": "861422fd",
   "metadata": {},
   "source": [
    "The final step is to combine the shannon entropy, secondary structure, and disordered binding region into a single dataframe. From there, we can calculate the solvent accessibility and tagging score for each position. The final output will be written to a file in the outputs folder."
   ]
  },
  {
   "cell_type": "code",
   "execution_count": null,
   "id": "9155780b",
   "metadata": {
    "attributes": {
     "": "",
     "classes": [],
     "id": ""
    }
   },
   "outputs": [],
   "source": [
    "# join tagging features in dataframe\n",
    "features_df <- Reduce(function(x, y) merge(x, y, all=TRUE), list(shannon_df, dssp_df, iupred_df), accumulate=FALSE)\n",
    "colnames(features_df)\n",
    "# normalize features and calculate tagging score\n",
    "norm_feats_df <- calculate_scores(features_df)\n",
    "\n",
    "# write to file.\n",
    "res_df <- merge(norm_feats_df, features_df)\n",
    "write.csv(apply(res_df,2,as.character), file = paste0(outputFolder, \"/\", query, \"_score.csv\"), row.names = FALSE)"
   ]
  }
 ],
 "metadata": {
  "language_info": {
   "name": "python"
  }
 },
 "nbformat": 4,
 "nbformat_minor": 5
}
