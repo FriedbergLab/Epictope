{
 "cells": [
  {
   "cell_type": "markdown",
   "id": "243734a8",
   "metadata": {},
   "source": [
    "### Introduction\n",
    "This vignette goes through an example workflow using the `epictope` package. `epictope` facilitates the identification of optimal tagging locations for proteins of interest. Optimal locations are identified by considering four features; sequence conservation, secondary structure, solvent accessibility, and disordered binding regions. These four features are factored into a scoring function that calculates a cumulative score for each position in the protein. The weight of each feature and how they contribute to the final score can be defined by the user. Below, we work through a simple example of this workflow for a protein of interest.\n",
    "\n",
    "\n",
    "### Dependencies\n",
    "To calculate the multiple sequence alignment and secondary characteristics, `epictope` relies on local installs of BLAST, muscle, and dssp. These packages can be installed using conda, an open-source package management system and environment management system that runs on Windows, macOS, and Linux. Conda installers can be found at the Anaconda [website](https://www.anaconda.com/). Once installed, you may run the follow commands to install the requisite packages. These commands will create a conda environment named \"epictope\", and install the requisite packages into that environment. Alternative ways to install `epictope` dependencies are can be found [here](https://github.com/henrichung/epitope_tag#dependencies)"
   ]
  },
  {
   "cell_type": "code",
   "execution_count": null,
   "id": "1286e33e",
   "metadata": {
    "attributes": {
     "": "",
     "classes": [],
     "id": ""
    }
   },
   "outputs": [],
   "source": [
    "conda create -n epictope\n",
    "conda activate epictope\n",
    "conda install -c bioconda blast muscle\n",
    "conda install -c salilab dssp\n",
    "conda install -c conda-forge r-base r-stringi r-openssl gzip git"
   ]
  },
  {
   "cell_type": "markdown",
   "id": "7f334d52",
   "metadata": {},
   "source": [
    "### Installation\n",
    "\n",
    "The `epictope` package can be installed from github using the `remotes` or `devtools` package."
   ]
  },
  {
   "cell_type": "code",
   "execution_count": null,
   "id": "e64d3768",
   "metadata": {
    "attributes": {
     "": "",
     "classes": [],
     "id": ""
    }
   },
   "outputs": [],
   "source": [
    "install.packages(\"remotes\")\n",
    "remotes::install_github(\"henrichung/epitope_tag\")"
   ]
  },
  {
   "cell_type": "markdown",
   "id": "ac67b995",
   "metadata": {},
   "source": [
    "#### Verify installation\n",
    "To check if `epictope` has been installed correctly, we can attempt the load the package using \"library()\". If successful, the command should run without any further messages to the console. Once `epictope` has been loaded, we can use the provided \".FindExecutable()\" function to determine if the dependencies have been successfully installed and are identifiable by R. If successful, the output of each .FindExecutable command should list the file location of the program."
   ]
  },
  {
   "cell_type": "code",
   "execution_count": null,
   "id": "ffac25d5",
   "metadata": {
    "attributes": {
     "": "",
     "classes": [],
     "id": ""
    }
   },
   "outputs": [],
   "source": [
    "#library(epictope) # check if epictope is installed and loadable\n",
    "epictope::.findExecutable(\"muscle\") # looks for muscle executable\n",
    "# ~/hchung/epictope/bin/muscle\" \n",
    "epictope::.findExecutable(\"blastp\") # looks for blast executable\n",
    "# ~/hchung/epictope/bin/blastp\" \n",
    "epictope::.findExecutable(\"mkdssp\") # looks for dssp executable\n",
    "# ~/hchung/epictope/bin/mkdssp\" "
   ]
  },
  {
   "cell_type": "markdown",
   "id": "c97e8659",
   "metadata": {},
   "source": [
    "#### Configuration file\n",
    "\n",
    "`epictope` uses pre-defined values to determine the score and weight of each feature. These values can be adjusted by the user by creating a \"config.R\" file in the working directory. If a \"config.R\" file is not found, epictope will use the default values. In either case, the score and weight values are loaded into the environment with the \"check_config()\"."
   ]
  },
  {
   "cell_type": "code",
   "execution_count": null,
   "id": "2046a372",
   "metadata": {
    "attributes": {
     "": "",
     "classes": [],
     "id": ""
    }
   },
   "outputs": [],
   "source": [
    "check_config()"
   ]
  },
  {
   "cell_type": "markdown",
   "id": "d9b31c81",
   "metadata": {},
   "source": [
    "The scores and weights loaded by default are shown below. These settings can be changed by simply copy-pasting the following lines into a \"config.R\" file, manually adjusting the numbers, and then re-running the check_config() function."
   ]
  },
  {
   "cell_type": "code",
   "execution_count": null,
   "id": "a44ac91a",
   "metadata": {
    "attributes": {
     "": "",
     "classes": [],
     "id": ""
    }
   },
   "outputs": [],
   "source": [
    "# define species to run MSA against\n",
    "species <- c(\"bos_taurus\", \"canis_lupus_familiaris\", \"gallus_gallus\", \"homo_sapiens\", \"mus_musculus\", \"takifugu_rubripes\", \"xenopus_tropicalis\")\n",
    "\n",
    "# weights for tagging features\n",
    "h_weight = 1.5 # shannon entropy\n",
    "rsa_weight = 1 # solvent accessable surface area\n",
    "ss_weight = 1 # secondary structure\n",
    "br_weight = 1 # disordered binding region\n",
    "\n",
    "# value for secondary structures, must be 0-1.\n",
    "# each letter refers to a type of secondary structure\n",
    "# the number indicates the value or \"suitability\" for tagging.\n",
    "# values should be from 0-1, with higher values indicating greater\n",
    "# suitability for tagging.\n",
    "ss_key <- list(\n",
    "    \"G\" = 0, \n",
    "    \"H\" = 0, \n",
    "    \"I\" = 0,\n",
    "    \"E\" = 0, \n",
    "    \"C\" = 1,\n",
    "    \"T\" = 0.5, \n",
    "    \"B\" = 0.5, \n",
    "    \"S\" = 0.5)\n",
    "\n",
    "# reference values for maximum solvent accesibility of amino acids.\n",
    "# default values estimate from the following study;\n",
    "# https://doi.org/10.1371/journal.pone.0080635\n",
    "aa <- c(\"A\", \"R\", \"N\", \"D\", \"C\", \"E\", \"Q\", \"G\", \"H\", \"I\", \"L\", \"K\", \"M\", \"F\", \"P\", \"S\", \"T\", \"W\", \"Y\", \"V\")\n",
    "empirical <- c(121, 265, 187, 187, 148, 214, 214, 97, 216, 195, 191, 230, 203, 228, 154, 143, 163, 264, 255, 165)\n",
    "max_sasa <- setNames(empirical, aa)\n"
   ]
  },
  {
   "cell_type": "markdown",
   "id": "8deda53d",
   "metadata": {},
   "source": [
    "#### Folder structure\n",
    "The epitope software recommends a specified file structure to store species proteomes and temporary files. This folder structure is outlined as follows;"
   ]
  },
  {
   "cell_type": "code",
   "execution_count": null,
   "id": "89214ebb",
   "metadata": {
    "attributes": {
     "": "",
     "classes": [],
     "id": ""
    }
   },
   "outputs": [],
   "source": [
    "project_folder\n",
    "├── code \n",
    "├── config # configuration file for scoring \n",
    "├── install.R # helper script\n",
    "├── single_score.R\n",
    "├── data\n",
    "│   ├── CDS # for protein sequences in coding regions for each organism in the MSA\n",
    "│   └── models # for the predicted alphafold2 structure for a protein of interest\n",
    "├── outputs # for the output scores\n",
    "└── README.md"
   ]
  },
  {
   "cell_type": "markdown",
   "id": "815a6dd7",
   "metadata": {},
   "source": [
    "To set up this structure, we include a simple function `setup_files` to create this structure for the user."
   ]
  },
  {
   "cell_type": "code",
   "execution_count": null,
   "id": "d27dd7d6",
   "metadata": {
    "attributes": {
     "": "",
     "classes": [],
     "id": ""
    }
   },
   "outputs": [],
   "source": [
    "setup_files()"
   ]
  },
  {
   "cell_type": "markdown",
   "id": "51b81a87",
   "metadata": {},
   "source": [
    "### Workflow\n",
    "\n",
    "Once set up is complete, we can use the package functions to identify optimal tagging locations as follows. To start, we will need to download the protein sequences of the organisms we want to compare against for a multiple sequence alignment. Afterwards, the `data/CDS` folder should be populated with \".gz\" files for each of the organisms used in the multiple sequence alignment."
   ]
  },
  {
   "cell_type": "code",
   "execution_count": null,
   "id": "0d677880",
   "metadata": {
    "attributes": {
     "": "",
     "classes": [],
     "id": ""
    }
   },
   "outputs": [],
   "source": [
    "# search for the default species specified with the config file \n",
    "protein_links <- ftp_search(species)\n",
    "# download the sequences\n",
    "lapply(protein_links, ftp_download)\n",
    "\n",
    "# we can also specify the sequences at the time of search \n",
    "#protein_links <- ftp_search(species = c(\"Mus_musculus\", \"Bos_taurus\"))\n",
    "#lapply(protein_links, ftp_download)"
   ]
  },
  {
   "cell_type": "markdown",
   "id": "b2ab06c7",
   "metadata": {},
   "source": [
    "Next, we will need to specify the *UniprotID* of the protein you are interested in. UniProt is a freely accessible database of protein sequence and functional information. A single gene can encode multiple protein isoforms through  alternative splicing. Starting with the UniprotID allows to know which specific protein isoform we are interested in and working with."
   ]
  },
  {
   "cell_type": "code",
   "execution_count": null,
   "id": "d083fe79",
   "metadata": {
    "attributes": {
     "": "",
     "classes": [],
     "id": ""
    }
   },
   "outputs": [],
   "source": [
    "query <- \"P57102\" # The UniprotID of the protein we are looking for. In this example, we use the Hand2 gene for zebrafish.\n",
    "uniprot_fields <- c(\"accession\", \"id\", \"gene_names\", \"xref_alphafolddb\", \"sequence\", \"organism_name\", \"organism_id\") # The features for the uniprot id we are interested in retieving. \n",
    "uniprot_data <- query_uniProt(query = query, fields = uniprot_fields) # fetch uniprot data"
   ]
  },
  {
   "cell_type": "markdown",
   "id": "f5b29f05",
   "metadata": {},
   "source": [
    "Using the Alphafold2ID provided by Uniprot, we can download the Protein Data Bank file or the AlphaFold2 predicted structure for the protein of interest. We then run DSSP to define the secondary structures from the Alphafold2 PDB file and parse out the results to a dataframe."
   ]
  },
  {
   "cell_type": "code",
   "execution_count": null,
   "id": "bee98d98",
   "metadata": {
    "attributes": {
     "": "",
     "classes": [],
     "id": ""
    }
   },
   "outputs": [],
   "source": [
    "# download associated alphafold2 pdb\n",
    "alphafold_file <- fetch_alphafold(gsub(\";\", \"\", uniprot_data$AlphaFoldDB))\n",
    "# calculate dssp on alphafold2 pdb file\n",
    "dssp_res <- dssp_command(alphafold_file)\n",
    "# parse dssp and convert to dataframe\n",
    "dssp_df <- parse_dssp(dssp_res)"
   ]
  },
  {
   "cell_type": "markdown",
   "id": "cc207245",
   "metadata": {},
   "source": [
    "The UniprotID is also used for IUPRED2A. IUPred2A is a web interface that allows to identify disordered protein regions using IUPred2 and disordered binding regions using ANCHOR2. From the IUPRED2A output, we take the ANCHOR2 score."
   ]
  },
  {
   "cell_type": "code",
   "execution_count": null,
   "id": "2552b7c5",
   "metadata": {
    "attributes": {
     "": "",
     "classes": [],
     "id": ""
    }
   },
   "outputs": [],
   "source": [
    "iupred_df <- iupredAnchor(query) # dataframe for iupred results"
   ]
  },
  {
   "cell_type": "markdown",
   "id": "42b0f0f3",
   "metadata": {},
   "source": [
    "To perform the multiple sequence alignment (MSA). We must identify homologous proteins in our selected species. To do this, we will BLAST our query protein against the proteome of the selected species. These species can be defined by the user with the \"config.R\" configuration file, or using the default set of animals. We will sort the BLAST results by their E value, and select highest match by the lowest E value. We will then run muscle to perform the MSA. Using the MSA result, we can calculate the shannnon entropy for each position."
   ]
  },
  {
   "cell_type": "code",
   "execution_count": null,
   "id": "4e61df80",
   "metadata": {
    "attributes": {
     "": "",
     "classes": [],
     "id": ""
    }
   },
   "outputs": [],
   "source": [
    "# blast query aa sequence\n",
    "seq <- Biostrings::AAStringSet(uniprot_data$Sequence, start=NA, end=NA, width=NA, use.names=TRUE) # Use the sequence identified by the UniprotID\n",
    "\n",
    "# list of proteome files to blast against\n",
    "aa_files <-  list.files(cds_folder, pattern = paste0(species, \".*\\\\.all.fa$\", collapse = \"|\"), ignore.case = TRUE, full.names = TRUE, recursive = TRUE)\n",
    "names(aa_files) <- aa_files\n",
    "\n",
    "# blast\n",
    "blast_results <- lapply(aa_files, function(.x){protein_blast(seq, .x)})\n",
    "\n",
    "# take the highest blast match according to E score \n",
    "find_best_match <- function(.x){head(.x[base::order(.x$E),], 1)} # sort by E value and take best match\n",
    "blast_best_match <- lapply(blast_results, find_best_match) # find best match\n",
    "blast_seqs <- lapply(blast_best_match, fetch_sequences) # retrieve the sequence for the best match\n",
    "\n",
    "# Assign the sequence of our query protein to the MSA\n",
    "blast_seqs[[query]] <- seq\n",
    "blast_stringset  <- Biostrings::AAStringSet(unlist(lapply(blast_seqs, function(.x){.x[[1]]})))\n",
    "\n",
    "# multiple sequence alignment\n",
    "msa_res <-  muscle(blast_stringset)\n",
    "# shannon entropy calculation\n",
    "shannon_df <- shannon_reshape(msa_res, query)\n"
   ]
  },
  {
   "cell_type": "markdown",
   "id": "60e4f998",
   "metadata": {},
   "source": [
    "The final step is to combine the shannon entropy, secondary structure, and disordered binding region into a single dataframe. From there, we can calculate the solvent accessibility and tagging score for each position. The final output will be written to a file in the outputs folder."
   ]
  },
  {
   "cell_type": "code",
   "execution_count": null,
   "id": "ea7c050e",
   "metadata": {
    "attributes": {
     "": "",
     "classes": [],
     "id": ""
    }
   },
   "outputs": [],
   "source": [
    "# join tagging features in dataframe\n",
    "features_df <- Reduce(function(x, y) merge(x, y, all=TRUE), list(shannon_df, dssp_df, iupred_df), accumulate=FALSE)\n",
    "colnames(features_df)\n",
    "# normalize features and calculate tagging score\n",
    "norm_feats_df <- calculate_scores(features_df)\n",
    "# write to file.\n",
    "res_df <- merge(norm_feats_df, features_df)\n",
    "write.csv(apply(res_df,2,as.character), file = paste0(outputFolder, \"/\", query, \"_score.csv\"))"
   ]
  }
 ],
 "metadata": {
  "language_info": {
   "name": "python"
  }
 },
 "nbformat": 4,
 "nbformat_minor": 5
}
